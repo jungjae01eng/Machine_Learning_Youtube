{
 "cells": [
  {
   "cell_type": "code",
   "execution_count": 1,
   "id": "b21a16fa",
   "metadata": {},
   "outputs": [],
   "source": [
    "# @author Jungjae Lee\n",
    "# Independent Study\n",
    "# Created on June 15, 2022\n",
    "# Last Updated on June 19, 2022\n",
    "# Sources: Python Machine Learning Tutorial (Data Science) by Programming with Mosh on the Youtube channel"
   ]
  },
  {
   "cell_type": "code",
   "execution_count": 2,
   "id": "6ad9af9d",
   "metadata": {},
   "outputs": [],
   "source": [
    "# We will make a tree diagram to visualize the steps that models take to predict."
   ]
  },
  {
   "cell_type": "code",
   "execution_count": 3,
   "id": "422f57e6",
   "metadata": {},
   "outputs": [],
   "source": [
    "import pandas as pd\n",
    "from sklearn.tree import DecisionTreeClassifier\n",
    "from sklearn import tree\n",
    "\n",
    "music_data = pd.read_csv('music.csv')\n",
    "X = music_data.drop(columns=['genre'])\n",
    "y = music_data['genre']\n",
    "\n",
    "model = DecisionTreeClassifier()\n",
    "model.fit(X, y)\n",
    "\n",
    "tree.export_graphviz(model, out_file='music-recommender.dot',\n",
    "                     feature_names=['age', 'gender'],\n",
    "                     class_names=sorted(y.unique()), # Disply class notes\n",
    "                     label='all', # Labels\n",
    "                     rounded=True, # Rounded cornor in the box\n",
    "                     filled=True) # Fill all of the box with color"
   ]
  }
 ],
 "metadata": {
  "kernelspec": {
   "display_name": "Python 3 (ipykernel)",
   "language": "python",
   "name": "python3"
  },
  "language_info": {
   "codemirror_mode": {
    "name": "ipython",
    "version": 3
   },
   "file_extension": ".py",
   "mimetype": "text/x-python",
   "name": "python",
   "nbconvert_exporter": "python",
   "pygments_lexer": "ipython3",
   "version": "3.9.12"
  }
 },
 "nbformat": 4,
 "nbformat_minor": 5
}
