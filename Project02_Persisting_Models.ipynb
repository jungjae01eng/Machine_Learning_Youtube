{
 "cells": [
  {
   "cell_type": "code",
   "execution_count": 1,
   "id": "7149da70",
   "metadata": {},
   "outputs": [],
   "source": [
    "# @author Jungjae Lee\n",
    "# Independent Study\n",
    "# Created on June 15, 2022\n",
    "# Last Updated on June 19, 2022\n",
    "# Sources: Python Machine Learning Tutorial (Data Science) by Programming with Mosh on the Youtube channel"
   ]
  },
  {
   "cell_type": "code",
   "execution_count": 2,
   "id": "1f4b0d18",
   "metadata": {},
   "outputs": [],
   "source": [
    "# We cannot always train the models because it will take longer to train them as it gets more complicated.\n",
    "# So, We will save the training so we can predict it without having to train it every time we need prediction."
   ]
  },
  {
   "cell_type": "code",
   "execution_count": 3,
   "id": "fcd1ffe1",
   "metadata": {},
   "outputs": [
    {
     "data": {
      "text/plain": [
       "['music-recommender.joblib']"
      ]
     },
     "execution_count": 3,
     "metadata": {},
     "output_type": "execute_result"
    }
   ],
   "source": [
    "import pandas as pd\n",
    "from sklearn.tree import DecisionTreeClassifier\n",
    "import sklearn.externals\n",
    "import joblib # Save and load the models\n",
    "\n",
    "music_data = pd.read_csv('music.csv')\n",
    "X = music_data.drop(columns=['genre'])\n",
    "y = music_data['genre']\n",
    "\n",
    "model = DecisionTreeClassifier()\n",
    "model.fit(X.values, y)\n",
    "\n",
    "joblib.dump(model, 'music-recommender.joblib')"
   ]
  },
  {
   "cell_type": "code",
   "execution_count": 4,
   "id": "c01b4c31",
   "metadata": {},
   "outputs": [
    {
     "data": {
      "text/plain": [
       "array(['HipHop', 'Dance'], dtype=object)"
      ]
     },
     "execution_count": 4,
     "metadata": {},
     "output_type": "execute_result"
    }
   ],
   "source": [
    "joblib.load('music-recommender.joblib')\n",
    "predictions = model.predict([[21, 1], [24, 0]])\n",
    "predictions"
   ]
  }
 ],
 "metadata": {
  "kernelspec": {
   "display_name": "Python 3 (ipykernel)",
   "language": "python",
   "name": "python3"
  },
  "language_info": {
   "codemirror_mode": {
    "name": "ipython",
    "version": 3
   },
   "file_extension": ".py",
   "mimetype": "text/x-python",
   "name": "python",
   "nbconvert_exporter": "python",
   "pygments_lexer": "ipython3",
   "version": "3.9.12"
  }
 },
 "nbformat": 4,
 "nbformat_minor": 5
}
