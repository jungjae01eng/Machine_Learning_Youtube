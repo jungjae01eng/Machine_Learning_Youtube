{
 "cells": [
  {
   "cell_type": "code",
   "execution_count": 12,
   "id": "1f4b0d18",
   "metadata": {},
   "outputs": [],
   "source": [
    "# We will seperate: first two column (age, gender) is an \"input,\" and the last column (genre) is the \"output.\"\n",
    "# We will ask model what 21 years old male likes to listen.\n",
    "# There are no 21 years old in this data so this code will predict!"
   ]
  },
  {
   "cell_type": "code",
   "execution_count": 7,
   "id": "fcd1ffe1",
   "metadata": {},
   "outputs": [
    {
     "name": "stderr",
     "output_type": "stream",
     "text": [
      "/Users/jungjae/opt/anaconda3/lib/python3.9/site-packages/sklearn/base.py:450: UserWarning: X does not have valid feature names, but DecisionTreeClassifier was fitted with feature names\n",
      "  warnings.warn(\n"
     ]
    },
    {
     "data": {
      "text/plain": [
       "array(['HipHop', 'Dance'], dtype=object)"
      ]
     },
     "execution_count": 7,
     "metadata": {},
     "output_type": "execute_result"
    }
   ],
   "source": [
    "import pandas as pd\n",
    "from sklearn.tree import DecisionTreeClassifier\n",
    "\n",
    "music_data = pd.read_csv('music.csv')\n",
    "X = music_data.drop(columns=['genre']) # X only includes age and gender\n",
    "y = music_data['genre'] # Output dataset\n",
    "\n",
    "model = DecisionTreeClassifier()\n",
    "model.fit(X, y)\n",
    "model.predict([ [21, 1], [22, 0] ])"
   ]
  },
  {
   "cell_type": "code",
   "execution_count": null,
   "id": "a06df0e8",
   "metadata": {},
   "outputs": [],
   "source": []
  }
 ],
 "metadata": {
  "kernelspec": {
   "display_name": "Python 3 (ipykernel)",
   "language": "python",
   "name": "python3"
  },
  "language_info": {
   "codemirror_mode": {
    "name": "ipython",
    "version": 3
   },
   "file_extension": ".py",
   "mimetype": "text/x-python",
   "name": "python",
   "nbconvert_exporter": "python",
   "pygments_lexer": "ipython3",
   "version": "3.9.12"
  }
 },
 "nbformat": 4,
 "nbformat_minor": 5
}
