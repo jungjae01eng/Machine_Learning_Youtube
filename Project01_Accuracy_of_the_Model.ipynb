{
 "cells": [
  {
   "cell_type": "code",
   "execution_count": 12,
   "id": "1135af74",
   "metadata": {},
   "outputs": [],
   "source": [
    "# 1. We will separate the first two columns (age, gender) as an \"input\" and the last column (genre) as an \"output.\"\n",
    "# 2. We will split the data into two data, one for training purposes and the other one for test purposes, to see\n",
    "# the accuracy of the prediction."
   ]
  },
  {
   "cell_type": "code",
   "execution_count": 14,
   "id": "1e798d77",
   "metadata": {},
   "outputs": [
    {
     "name": "stdout",
     "output_type": "stream",
     "text": [
      "    age  gender      genre\n",
      "0    20       1     HipHop\n",
      "1    23       1     HipHop\n",
      "2    25       1     HipHop\n",
      "3    26       1       Jazz\n",
      "4    29       1       Jazz\n",
      "5    30       1       Jazz\n",
      "6    31       1  Classical\n",
      "7    33       1  Classical\n",
      "8    37       1  Classical\n",
      "9    20       0      Dance\n",
      "10   21       0      Dance\n",
      "11   25       0      Dance\n",
      "12   26       0   Acoustic\n",
      "13   27       0   Acoustic\n",
      "14   30       0   Acoustic\n",
      "15   31       0  Classical\n",
      "16   34       0  Classical\n",
      "17   35       0  Classical \n",
      "\n",
      "    age  gender\n",
      "0    20       1\n",
      "1    23       1\n",
      "2    25       1\n",
      "3    26       1\n",
      "4    29       1\n",
      "5    30       1\n",
      "6    31       1\n",
      "7    33       1\n",
      "8    37       1\n",
      "9    20       0\n",
      "10   21       0\n",
      "11   25       0\n",
      "12   26       0\n",
      "13   27       0\n",
      "14   30       0\n",
      "15   31       0\n",
      "16   34       0\n",
      "17   35       0 \n",
      "\n",
      "0        HipHop\n",
      "1        HipHop\n",
      "2        HipHop\n",
      "3          Jazz\n",
      "4          Jazz\n",
      "5          Jazz\n",
      "6     Classical\n",
      "7     Classical\n",
      "8     Classical\n",
      "9         Dance\n",
      "10        Dance\n",
      "11        Dance\n",
      "12     Acoustic\n",
      "13     Acoustic\n",
      "14     Acoustic\n",
      "15    Classical\n",
      "16    Classical\n",
      "17    Classical\n",
      "Name: genre, dtype: object\n"
     ]
    },
    {
     "data": {
      "text/plain": [
       "1.0"
      ]
     },
     "execution_count": 14,
     "metadata": {},
     "output_type": "execute_result"
    }
   ],
   "source": [
    "import pandas as pd\n",
    "from sklearn.tree import DecisionTreeClassifier\n",
    "from sklearn.model_selection import train_test_split\n",
    "from sklearn.metrics import accuracy_score\n",
    "\n",
    "\n",
    "# Music data\n",
    "music_data = pd.read_csv('music.csv')\n",
    "print(music_data, '\\n')\n",
    "\n",
    "\n",
    "# Separated columns: X (Input dataset), y (Output dataset)\n",
    "X = music_data.drop(columns=['genre']) # X only includes age and gender (Input dataset)\n",
    "print(X, '\\n')\n",
    "y = music_data['genre'] # y only contains genre (Output dataset)\n",
    "print(y)\n",
    "\n",
    "\n",
    "# Split the train and test\n",
    "X_train, X_test, y_train, y_test = train_test_split(X, y, test_size=0.2)\n",
    "# The model will use 80% of the data to train and 20% of the data to test whether the prediction is correct\n",
    "# If we change the \"test_size\" to 0.8, the accuracy will decrease dramatically.\n",
    "# The more data we give to the model, the prediction will be more accurate.\n",
    "\n",
    "\n",
    "# Tree Model, Training\n",
    "model = DecisionTreeClassifier()\n",
    "model.fit(X_train, y_train) # Train the model\n",
    "predictions = model.predict(X_test) # Take two demensional array\n",
    "\n",
    "\n",
    "# Test the accuracy of the predictions\n",
    "score = accuracy_score(y_test, predictions)\n",
    "score # Each time, there will be a different score because the data is using a different dataset"
   ]
  }
 ],
 "metadata": {
  "kernelspec": {
   "display_name": "Python 3 (ipykernel)",
   "language": "python",
   "name": "python3"
  },
  "language_info": {
   "codemirror_mode": {
    "name": "ipython",
    "version": 3
   },
   "file_extension": ".py",
   "mimetype": "text/x-python",
   "name": "python",
   "nbconvert_exporter": "python",
   "pygments_lexer": "ipython3",
   "version": "3.9.12"
  }
 },
 "nbformat": 4,
 "nbformat_minor": 5
}
